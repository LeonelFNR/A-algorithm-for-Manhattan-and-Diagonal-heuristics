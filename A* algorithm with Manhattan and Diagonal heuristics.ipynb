{
 "cells": [
  {
   "cell_type": "code",
   "execution_count": 2,
   "id": "b5f27914-8665-4e3b-a910-64e163b4c9e5",
   "metadata": {},
   "outputs": [
    {
     "name": "stdout",
     "output_type": "stream",
     "text": [
      "Expansions with manhattan heuristic: 25\n",
      "Path using Manhattan distance: [(0, 0), (0, 1), (0, 2), (0, 3), (0, 4), (0, 5), (1, 5), (2, 5), (3, 5), (4, 5), (5, 5)]\n",
      "Expansions with diagonal heuristic: 26\n",
      "Path using Diagonal distance: [(0, 0), (0, 1), (0, 2), (0, 3), (0, 4), (0, 5), (1, 5), (2, 5), (3, 5), (4, 5), (5, 5)]\n"
     ]
    }
   ],
   "source": [
    "import heapq\n",
    "import math\n",
    "\n",
    "def a_star(grid, start, target, heuristic):\n",
    "    def manhattan_distance(x1, y1, x2, y2):\n",
    "        return abs(x1 - x2) + abs(y1 - y2)\n",
    "\n",
    "    def diagonal_distance(x1, y1, x2, y2):\n",
    "        return max(abs(x1 - x2), abs(y1 - y2))\n",
    "\n",
    "    heuristic_function = manhattan_distance if heuristic == \"manhattan\" else diagonal_distance\n",
    "\n",
    "    rows, cols = len(grid), len(grid[0])\n",
    "    directions = [(0, 1), (1, 0), (0, -1), (-1, 0)]  # Horizontal and vertical movements allowed\n",
    "\n",
    "    open_set = []\n",
    "    heapq.heappush(open_set, (0, start))\n",
    "    came_from = {}\n",
    "    g_score = {start: 0}\n",
    "    f_score = {start: heuristic_function(*start, *target)}\n",
    "\n",
    "    expansions = 0  # Expansion number counter\n",
    "\n",
    "    while open_set:\n",
    "        _, current = heapq.heappop(open_set)\n",
    "        expansions += 1  # Increaste the counter of expansions eacth time a node is processed\n",
    "\n",
    "        if current == target:\n",
    "            path = []\n",
    "            while current in came_from:\n",
    "                path.append(current)\n",
    "                current = came_from[current]\n",
    "            path.append(start)\n",
    "            print(f\"Expansions with {heuristic} heuristic: {expansions}\")  # Show expansions\n",
    "            return path[::-1]\n",
    "\n",
    "        for dx, dy in directions:\n",
    "            neighbor = (current[0] + dx, current[1] + dy)\n",
    "\n",
    "            if 0 <= neighbor[0] < rows and 0 <= neighbor[1] < cols and grid[neighbor[0]][neighbor[1]] != math.inf:\n",
    "                tentative_g_score = g_score[current] + grid[neighbor[0]][neighbor[1]]\n",
    "\n",
    "                if neighbor not in g_score or tentative_g_score < g_score[neighbor]:\n",
    "                    came_from[neighbor] = current\n",
    "                    g_score[neighbor] = tentative_g_score\n",
    "                    f_score[neighbor] = tentative_g_score + heuristic_function(*neighbor, *target)\n",
    "                    heapq.heappush(open_set, (f_score[neighbor], neighbor))\n",
    "\n",
    "    print(f\"Expansions with {heuristic} heuristic: {expansions}\")  # Show expansions if path not found\n",
    "    return None  # No possible path\n",
    "\n",
    "# Example grid\n",
    "grid = [\n",
    "    [1, 1, 1, 1, 1, 1],\n",
    "    [1, 1, 5, math.inf, math.inf, 1],\n",
    "    [1, 1, 5, 1, 1, 1],\n",
    "    [math.inf, 1, 1, 1, math.inf, 1],\n",
    "    [1, 1, 1, 1, math.inf, 1],\n",
    "    [1, 1, 1, 1, 1, 1],\n",
    "]\n",
    "\n",
    "# Starint S and Ending point T\n",
    "start = (0, 0)  # Posició de 'S'\n",
    "target = (5, 5)  # Posició de 'T'\n",
    "\n",
    "# Execution with Manhattan distance\n",
    "path_manhattan = a_star(grid, start, target, heuristic=\"manhattan\")\n",
    "print(\"Path using Manhattan distance:\", path_manhattan)\n",
    "\n",
    "# Execution with Diagonal distancel\n",
    "path_diagonal = a_star(grid, start, target, heuristic=\"diagonal\")\n",
    "print(\"Path using Diagonal distance:\", path_diagonal)\n"
   ]
  },
  {
   "cell_type": "code",
   "execution_count": null,
   "id": "75c099bc-b6ef-429f-a48e-537a1aa06f89",
   "metadata": {},
   "outputs": [],
   "source": []
  }
 ],
 "metadata": {
  "kernelspec": {
   "display_name": "Python 3 (ipykernel)",
   "language": "python",
   "name": "python3"
  },
  "language_info": {
   "codemirror_mode": {
    "name": "ipython",
    "version": 3
   },
   "file_extension": ".py",
   "mimetype": "text/x-python",
   "name": "python",
   "nbconvert_exporter": "python",
   "pygments_lexer": "ipython3",
   "version": "3.10.12"
  }
 },
 "nbformat": 4,
 "nbformat_minor": 5
}
